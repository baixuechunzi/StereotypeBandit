{
 "cells": [
  {
   "cell_type": "markdown",
   "id": "central-athens",
   "metadata": {},
   "source": [
    "### Computational simulation for Multi-Armed Bandit with Thompson Sampling"
   ]
  },
  {
   "cell_type": "code",
   "execution_count": 1,
   "id": "superior-beatles",
   "metadata": {},
   "outputs": [],
   "source": [
    "import numpy as np\n",
    "import time\n",
    "import seaborn as sns\n",
    "import matplotlib.pyplot as plt\n",
    "import pandas as pd"
   ]
  },
  {
   "cell_type": "markdown",
   "id": "adverse-summer",
   "metadata": {},
   "source": [
    "#### set-up parameters:"
   ]
  },
  {
   "cell_type": "code",
   "execution_count": 16,
   "id": "promising-patent",
   "metadata": {},
   "outputs": [],
   "source": [
    "# total numbers of simulations:\n",
    "sim_total = 50\n",
    "\n",
    "# total times of interactions:\n",
    "number_of_turns = 40\n",
    "\n",
    "# total number of machines:\n",
    "number_of_slot_machines = 4\n",
    "\n",
    "# average reward rates:\n",
    "conversion_rates = np.array([0.9, 0.9, 0.9, 0.9])\n",
    "# conversion_rates = np.array([0.1, 0.3, 0.5, 0.9])\n",
    "\n",
    "# prior bias:\n",
    "prior_pos = 1\n",
    "prior_neg = 1\n",
    "# prior_pos = 10\n",
    "# prior_neg = 1"
   ]
  },
  {
   "cell_type": "markdown",
   "id": "indie-things",
   "metadata": {},
   "source": [
    "#### set-up the environment and actions:"
   ]
  },
  {
   "cell_type": "code",
   "execution_count": 19,
   "id": "conservative-negative",
   "metadata": {},
   "outputs": [],
   "source": [
    "playedmost = []\n",
    "highestpm = []\n",
    "interaction_time = []\n",
    "posterior_mean = []\n",
    "\n",
    "sim_total = sim_total\n",
    "for sim in range(sim_total):\n",
    "\n",
    "    \n",
    "    '''\n",
    "    create datasets - the environment\n",
    "    '''\n",
    "    \n",
    "    # define the total number of turns\n",
    "    number_of_turns = number_of_turns\n",
    "\n",
    "    # define the total number of slot machines\n",
    "    number_of_slot_machines = number_of_slot_machines\n",
    "\n",
    "    # define arrays where we can keep track of our wins (positive rewards) \n",
    "    # and losses (negative rewards) for each slot init with zeros\n",
    "    number_of_positive_rewards = np.zeros(number_of_slot_machines)\n",
    "    number_of_negative_rewards = np.zeros(number_of_slot_machines)\n",
    "\n",
    "    # create a random conversion rate for each slot\n",
    "    # 0.9, 0.9, 0.9, 0.9 vs. 0.1, 0.3, 0.5, 0.9\n",
    "    conversion_rates = conversion_rates\n",
    "\n",
    "    # generate a fake dataset\n",
    "    # define a seed for the random number generator (one simulation one seed)\n",
    "    np.random.seed(int(time.time()))\n",
    "\n",
    "    # the dataset is a matrix with one row for each turn, and one column for each slot\n",
    "    # each item in the matrix represents the outcome of what would happen if we were to play a\n",
    "    # particular slot on that particular turn. A value of \"1\" indicates that we would win,\n",
    "    # while a value of \"0\" indicates that we would lose.\n",
    "    # the number of \"wins\" for each slot is determined by its conversion rate (defined above).\n",
    "\n",
    "    # create a 2d numpy array, and fill it with zeros\n",
    "    outcomes = np.zeros((number_of_turns, number_of_slot_machines))\n",
    "    # fill-in 1 to outcomes, according to conversion rates.\n",
    "    for slot_machine_index in range(number_of_slot_machines):\n",
    "        outcomes[np.random.choice(np.arange(number_of_turns),\n",
    "                                  int(conversion_rates[slot_machine_index]*number_of_turns),\n",
    "                                  replace=False),\n",
    "                 slot_machine_index] = 1\n",
    "    \n",
    "    \n",
    "    '''\n",
    "    play the game - actions\n",
    "    '''\n",
    "    \n",
    "    \n",
    "    # assign slot 3 with a prior\n",
    "    prior_pos = prior_pos\n",
    "    prior_neg = prior_neg\n",
    "    number_of_positive_rewards[3] = prior_pos\n",
    "    number_of_negative_rewards[3] = prior_neg\n",
    "\n",
    "    # for each turn\n",
    "    d={i:[] for i in range(number_of_slot_machines)}\n",
    "    for turn_index in range(number_of_turns):\n",
    "        index_of_machine_to_play = -1\n",
    "        max_beta = -1\n",
    "\n",
    "        # determine which slot machine to play for this turn\n",
    "        # for each slot\n",
    "        for slot_machine_index in range(number_of_slot_machines):\n",
    "            # define the shape parameters for the beta distribution. The shape will depend on the number\n",
    "            # of wins and losses that have thus far been observed for this particular slot machine.\n",
    "            a = number_of_positive_rewards[slot_machine_index] + 1\n",
    "            b = number_of_negative_rewards[slot_machine_index] + 1\n",
    "\n",
    "            d[slot_machine_index].append(a/(a+b))\n",
    "\n",
    "            # get a random value from the beta distribution whose shape is defined by the number of\n",
    "            # wins and losses that have thus far been observed for this slot machine\n",
    "            random_beta = np.random.beta(a, b)\n",
    "\n",
    "            # if this is the largest beta value thus far observed for this iteration\n",
    "            if random_beta > max_beta:\n",
    "                # update the maximum beta value thus far observed\n",
    "                max_beta = random_beta\n",
    "                \n",
    "                '''\n",
    "                Thompson sampling (v. random sampling)\n",
    "                '''\n",
    "                # THOMPSON SAMPLING: set the machine to play to the current machine\n",
    "                index_of_machine_to_play = slot_machine_index\n",
    "                \n",
    "                # RANDOM SAMPLING: pick up a random machine to play\n",
    "                index_of_machine_to_play = np.random.randint(0, number_of_slot_machines)\n",
    "                ''''''\n",
    "\n",
    "        # play the selected slot, and record whether we win or lose\n",
    "        if outcomes[turn_index][index_of_machine_to_play] == 1:\n",
    "            number_of_positive_rewards[index_of_machine_to_play] += 1\n",
    "        else:\n",
    "            number_of_negative_rewards[index_of_machine_to_play] += 1\n",
    "\n",
    "    # compute and display the total number of times each slot was played\n",
    "    number_of_times_played = number_of_positive_rewards + number_of_negative_rewards\n",
    "    # for each slot\n",
    "    # for slot_machine_index in range(number_of_slot_machines):\n",
    "    #     print('Slot machine {0} was played {1} times'.format(slot_machine_index, number_of_times_played[slot_machine_index]))\n",
    "\n",
    "    # identify and display the best slot machine to play\n",
    "    # print('\\nOverall Conclusion: The best slot machine to play is machine {}!'.format(np.argmax(number_of_times_played)))\n",
    "\n",
    "    # record # times played with the highest prior slot\n",
    "    playedmost.append(np.argmax(number_of_times_played))\n",
    "    # record which slot gave the highest pm\n",
    "    highestpm.append(np.argmax([d[0][-1],d[1][-1],d[2][-1],d[3][-1]]))\n",
    "\n",
    "    # times of interaction sorted\n",
    "    interaction_time.extend(np.sort(number_of_times_played))\n",
    "\n",
    "    # posterior mean sorted\n",
    "    for i in range(number_of_turns):\n",
    "        posterior_mean.extend(sorted([d[0][i],d[1][i],d[2][i],d[3][i]]))\n",
    "\n",
    "    sim += 1\n",
    "    # make sure every sim uses a new seed\n",
    "    time.sleep(1)\n"
   ]
  },
  {
   "cell_type": "markdown",
   "id": "comparative-quarterly",
   "metadata": {},
   "source": [
    "#### visualize results"
   ]
  },
  {
   "cell_type": "code",
   "execution_count": 41,
   "id": "amended-denver",
   "metadata": {},
   "outputs": [
    {
     "data": {
      "image/png": "[encoded data removed]",
      "text/plain": [
       "<Figure size 360x360 with 1 Axes>"
      ]
     },
     "metadata": {
      "needs_background": "light"
     },
     "output_type": "display_data"
    },
    {
     "data": {
      "image/png": "[encoded data removed]",
      "text/plain": [
       "<Figure size 432x288 with 1 Axes>"
      ]
     },
     "metadata": {
      "needs_background": "light"
     },
     "output_type": "display_data"
    }
   ],
   "source": [
    "# visualize interaction time.\n",
    "arms = ['G1', 'G2', 'G3', 'G4'] * sim_total\n",
    "df = pd.DataFrame(list(zip(arms, interaction_time)), columns=['groups','interaction_time'])\n",
    "ax = sns.catplot(x='interaction_time', y='groups', kind=\"bar\", data=df)\n",
    "sns.despine(offset=5, trim=True)\n",
    "plt.show()\n",
    "\n",
    "\n",
    "# visualize posterior mean.\n",
    "turn = []\n",
    "for i in range(number_of_turns):\n",
    "    turn += [i] * number_of_slot_machines\n",
    "turns = turn * sim_total\n",
    "arms = ['G1', 'G2', 'G3', 'G4'] * number_of_turns * sim_total\n",
    "df = pd.DataFrame(list(zip(turns, arms, posterior_mean)), columns=['turns','groups','posterior_mean'])\n",
    "ax = sns.lineplot(x=\"turns\", y=\"posterior_mean\", hue=\"groups\", data=df)\n",
    "ax.set(xlabel='turns', ylabel='estimated posterior mean')\n",
    "ax.set(ylim=(0, 1))\n",
    "ax.axhline(.90, ls='--',color='r')\n",
    "#ax.axhline(.50, ls='--',color='g')\n",
    "#ax.axhline(.30, ls='--',color='orange')\n",
    "#ax.axhline(.10, ls='--',color='b')\n",
    "sns.despine(offset=5, trim=True)\n",
    "plt.show()\n"
   ]
  }
 ],
 "metadata": {
  "kernelspec": {
   "display_name": "Python 3",
   "language": "python",
   "name": "python3"
  },
  "language_info": {
   "codemirror_mode": {
    "name": "ipython",
    "version": 3
   },
   "file_extension": ".py",
   "mimetype": "text/x-python",
   "name": "python",
   "nbconvert_exporter": "python",
   "pygments_lexer": "ipython3",
   "version": "3.8.0"
  }
 },
 "nbformat": 4,
 "nbformat_minor": 5
}
