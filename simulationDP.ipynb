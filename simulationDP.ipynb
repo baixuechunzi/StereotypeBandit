{
 "cells": [
  {
   "cell_type": "markdown",
   "id": "harmful-beatles",
   "metadata": {},
   "source": [
    "### Computational simulation for Multi-Armed Bandit with Dynamic Programming"
   ]
  },
  {
   "cell_type": "code",
   "execution_count": 96,
   "id": "loose-mauritius",
   "metadata": {},
   "outputs": [],
   "source": [
    "import numpy as np\n",
    "import pandas as pd\n",
    "import random\n",
    "import time\n",
    "from collections import Counter\n",
    "import seaborn as sns\n",
    "import matplotlib.pyplot as plt"
   ]
  },
  {
   "cell_type": "markdown",
   "id": "durable-innocent",
   "metadata": {},
   "source": [
    "#### set-up the environment: bandit"
   ]
  },
  {
   "cell_type": "code",
   "execution_count": 55,
   "id": "executive-tours",
   "metadata": {},
   "outputs": [],
   "source": [
    "class Bandit:  # Environment\n",
    "    def __init__(self, total_round, start_round):\n",
    "        self.total_round = total_round\n",
    "        self.current_round = start_round\n",
    "\n",
    "    def set(self, rewards, actions):\n",
    "        '''\n",
    "        rewards --> dict: round: list of rewards (for each arm)\n",
    "        actions --> dict: round: list of actions (select which arm) should be [0,1,2,3]\n",
    "        '''\n",
    "        self.rewards = rewards\n",
    "        self.actions = actions\n",
    "\n",
    "    def set_state(self, round):\n",
    "        '''\n",
    "        s --> tuple: (int,int)\n",
    "        '''\n",
    "        self.current_round = round\n",
    "\n",
    "    def current_state(self):\n",
    "        return self.current_round\n",
    "\n",
    "    def is_terminal(self, round):\n",
    "        return round != self.total_round\n",
    "\n",
    "    def game_over(self):\n",
    "        return self.current_round == self.total_round\n",
    "\n",
    "    def move(self, action):\n",
    "        # return reward if any\n",
    "        self.current_round += 1\n",
    "        return self.rewards[self.current_round][action]\n",
    "\n",
    "    def all_states(self):\n",
    "        '''\n",
    "        gives us a set of all possible states in grid world\n",
    "        '''\n",
    "        return range(self.total_round)"
   ]
  },
  {
   "cell_type": "markdown",
   "id": "technological-mention",
   "metadata": {},
   "source": [
    "#### set the parameters"
   ]
  },
  {
   "cell_type": "code",
   "execution_count": 69,
   "id": "exceptional-notebook",
   "metadata": {},
   "outputs": [],
   "source": [
    "thresh = 1e-4\n",
    "GAMMA = 1\n",
    "number_of_turns = 40\n",
    "number_of_slot_machines = 4\n",
    "conversion_rate = [0.9 for i in range(number_of_slot_machines)]\n",
    "ACTIONS = list(range(number_of_slot_machines))\n",
    "sim_total = 50"
   ]
  },
  {
   "cell_type": "markdown",
   "id": "visible-arrow",
   "metadata": {},
   "source": [
    "#### play the game via DP (value iteration)"
   ]
  },
  {
   "cell_type": "code",
   "execution_count": 82,
   "id": "supposed-austria",
   "metadata": {},
   "outputs": [],
   "source": [
    "rewards_df = []\n",
    "raw_policies_df = []\n",
    "sum_policies_df = []\n",
    "\n",
    "sim_total = sim_total\n",
    "for sim in range(sim_total):\n",
    "    \n",
    "    '''\n",
    "    create new dataset each time\n",
    "    '''\n",
    "    def bandit(number_of_turns, conversion_rate, number_of_slot_machines):\n",
    "        bandit = Bandit(total_round=number_of_turns, start_round=0)\n",
    "\n",
    "        np.random.seed(int(time.time()))\n",
    "        rewards_np = np.zeros((number_of_turns, number_of_slot_machines))\n",
    "        for slot_machine_index in range(number_of_slot_machines):\n",
    "            rewards_np[\n",
    "                np.random.choice(np.arange(number_of_turns), int(conversion_rate[slot_machine_index] * number_of_turns),\n",
    "                                 replace=False), slot_machine_index] = 1\n",
    "        rewards_df.append(rewards_np)\n",
    "\n",
    "        rewards = {i: rewards_np[i].tolist() for i in range(number_of_turns)}\n",
    "        actions = {i: list(range(number_of_slot_machines)) for i in range(number_of_turns - 1)}\n",
    "    \n",
    "        bandit.set(rewards, actions)\n",
    "        return bandit\n",
    "\n",
    "    # instantiate the bandit\n",
    "    B = bandit(number_of_turns, conversion_rate, number_of_slot_machines)\n",
    "    \n",
    "    \n",
    "    '''\n",
    "    value iteration\n",
    "    '''\n",
    "\n",
    "    # randomly instantiate\n",
    "    policy = {}\n",
    "    for s in B.actions.keys():\n",
    "        policy[s] = np.random.choice(ACTIONS)\n",
    "\n",
    "    # initialize V(s) randomly between 0 and 1\n",
    "    V = {}\n",
    "    states = B.all_states()\n",
    "    for s in states:\n",
    "        if s in B.actions:\n",
    "            V[s] = np.random.random()\n",
    "        else:\n",
    "            # terminal state so we set Value to 0\n",
    "            V[s] = 0\n",
    "\n",
    "    # repeat until convergence\n",
    "    # V[s] = max[a]{sum[s',r] {p(s',r|s,a)[r + GAMMA * V[s']]}}\n",
    "    while True:\n",
    "        max_change = 0\n",
    "        for s in states:\n",
    "            old_vs = V[s]\n",
    "\n",
    "            # V[s] only has policy if not a terminal state\n",
    "            if s in policy:\n",
    "                new_v = float('-inf')\n",
    "\n",
    "                # find max[a]\n",
    "                # random.shuffle(ACTIONS)\n",
    "                for a in ACTIONS:\n",
    "                    B.set_state(s)\n",
    "                    r = B.move(a)\n",
    "                    v = r + GAMMA * V[B.current_state()]\n",
    "                    if v > new_v:\n",
    "                        new_v = v\n",
    "                V[s] = new_v\n",
    "                max_change = max(max_change, np.abs(old_vs - V[s]))\n",
    "\n",
    "        # when the value function converges break out of the loop\n",
    "        if max_change < thresh:\n",
    "            break\n",
    "\n",
    "    '''\n",
    "    find the optimal policy\n",
    "    '''        \n",
    "    # find a policy that leads to optimal value function\n",
    "    for s in policy.keys():\n",
    "        best_act = None\n",
    "        best_value = float('-inf')\n",
    "        # random.shuffle(ACTIONS)\n",
    "        for a in ACTIONS:\n",
    "            B.set_state(s)\n",
    "            r = B.move(a)\n",
    "            v = r + GAMMA * V[B.current_state()]\n",
    "            if v > best_value:\n",
    "                best_value = v\n",
    "                best_act = a\n",
    "        policy[s] = best_act\n",
    "\n",
    "    # see results\n",
    "    raw_policies_df.append(list(policy.values()))\n",
    "    sum_policies_df.append(Counter(list(policy.values())))\n",
    "    \n",
    "    sim += 1\n",
    "    time.sleep(1)"
   ]
  },
  {
   "cell_type": "markdown",
   "id": "charming-pickup",
   "metadata": {},
   "source": [
    "#### visualize results"
   ]
  },
  {
   "cell_type": "code",
   "execution_count": 120,
   "id": "infectious-albany",
   "metadata": {},
   "outputs": [
    {
     "data": {
      "image/png": "[encoded data removed]",
      "text/plain": [
       "<Figure size 360x360 with 1 Axes>"
      ]
     },
     "metadata": {
      "needs_background": "light"
     },
     "output_type": "display_data"
    }
   ],
   "source": [
    "# visualize interaction time.\n",
    "widedf = pd.DataFrame(sum_policies_df)\n",
    "widedf['turn'] = list(range(sim_total))\n",
    "longdf = pd.melt(widedf, id_vars=['turn'], value_vars=[0, 1, 2, 3],\n",
    "                var_name='groups', value_name='interaction_time')\n",
    "\n",
    "ax = sns.catplot(x='groups', y='interaction_time', kind=\"bar\", data=longdf)\n",
    "sns.despine(offset=5, trim=True)\n",
    "plt.show()"
   ]
  },
  {
   "cell_type": "code",
   "execution_count": 166,
   "id": "automatic-engineer",
   "metadata": {},
   "outputs": [
    {
     "data": {
      "text/html": [
       "<div>\n",
       "<style scoped>\n",
       "    .dataframe tbody tr th:only-of-type {\n",
       "        vertical-align: middle;\n",
       "    }\n",
       "\n",
       "    .dataframe tbody tr th {\n",
       "        vertical-align: top;\n",
       "    }\n",
       "\n",
       "    .dataframe thead th {\n",
       "        text-align: right;\n",
       "    }\n",
       "</style>\n",
       "<table border=\"1\" class=\"dataframe\">\n",
       "  <thead>\n",
       "    <tr style=\"text-align: right;\">\n",
       "      <th></th>\n",
       "      <th>turn</th>\n",
       "      <th>interaction_time</th>\n",
       "    </tr>\n",
       "    <tr>\n",
       "      <th>groups</th>\n",
       "      <th></th>\n",
       "      <th></th>\n",
       "    </tr>\n",
       "  </thead>\n",
       "  <tbody>\n",
       "    <tr>\n",
       "      <th>0</th>\n",
       "      <td>24.5</td>\n",
       "      <td>35.180000</td>\n",
       "    </tr>\n",
       "    <tr>\n",
       "      <th>1</th>\n",
       "      <td>24.5</td>\n",
       "      <td>3.500000</td>\n",
       "    </tr>\n",
       "    <tr>\n",
       "      <th>2</th>\n",
       "      <td>24.5</td>\n",
       "      <td>1.153846</td>\n",
       "    </tr>\n",
       "    <tr>\n",
       "      <th>3</th>\n",
       "      <td>24.5</td>\n",
       "      <td>1.000000</td>\n",
       "    </tr>\n",
       "  </tbody>\n",
       "</table>\n",
       "</div>"
      ],
      "text/plain": [
       "        turn  interaction_time\n",
       "groups                        \n",
       "0       24.5         35.180000\n",
       "1       24.5          3.500000\n",
       "2       24.5          1.153846\n",
       "3       24.5          1.000000"
      ]
     },
     "execution_count": 166,
     "metadata": {},
     "output_type": "execute_result"
    }
   ],
   "source": [
    "longdf.groupby(['groups']).mean()"
   ]
  },
  {
   "cell_type": "code",
   "execution_count": 167,
   "id": "similar-leave",
   "metadata": {},
   "outputs": [
    {
     "data": {
      "image/png": "[encoded data removed]",
      "text/plain": [
       "<Figure size 432x288 with 1 Axes>"
      ]
     },
     "metadata": {
      "needs_background": "light"
     },
     "output_type": "display_data"
    }
   ],
   "source": [
    "# calculate posterior mean.\n",
    "posterior_mean = []\n",
    "\n",
    "for sim in range(sim_total):\n",
    "    \n",
    "    reward_each_round = rewards_df[sim][1:]\n",
    "    machine_played_each_round = raw_policies_df[sim]\n",
    "\n",
    "    d={i:[] for i in range(number_of_slot_machines)}\n",
    "    number_of_positive_rewards={i:1 for i in range(number_of_slot_machines)}\n",
    "    number_of_negative_rewards={i:1 for i in range(number_of_slot_machines)}\n",
    "    for turn_index in range(len(machine_played_each_round)):\n",
    "        for slot_machine_index in range(number_of_slot_machines):\n",
    "            if slot_machine_index == machine_played_each_round[turn_index]:\n",
    "                if reward_each_round[turn_index][slot_machine_index]==1:\n",
    "                    number_of_positive_rewards[slot_machine_index]+=1\n",
    "                else:\n",
    "                    number_of_negative_rewards[slot_machine_index]+=1\n",
    "\n",
    "            a = number_of_positive_rewards[slot_machine_index]\n",
    "            b = number_of_negative_rewards[slot_machine_index]\n",
    "            d[slot_machine_index].append(a/(a+b))\n",
    "\n",
    "    dd = np.array([d[0],d[1],d[2],d[3]])\n",
    "    flatten_dd = dd.flatten('F')\n",
    "    \n",
    "    posterior_mean.extend(flatten_dd)\n",
    "    \n",
    "    sim += 1\n",
    "    \n",
    "    \n",
    "# visualize posterior mean.\n",
    "turn = []\n",
    "for i in range(number_of_turns-1):\n",
    "    turn += [i] * number_of_slot_machines\n",
    "turns = turn * sim_total\n",
    "arms = ['G1', 'G2', 'G3', 'G4'] * (number_of_turns-1) * sim_total\n",
    "df = pd.DataFrame(list(zip(turns, arms, posterior_mean)), columns=['turns','groups','posterior_mean'])\n",
    "ax = sns.lineplot(x=\"turns\", y=\"posterior_mean\", hue=\"groups\", data=df)\n",
    "ax.set(xlabel='turns', ylabel='estimated posterior mean')\n",
    "ax.set(ylim=(0, 1))\n",
    "ax.axhline(.90, ls='--',color='r')\n",
    "sns.despine(offset=5, trim=True)\n",
    "plt.show()    "
   ]
  },
  {
   "cell_type": "code",
   "execution_count": 165,
   "id": "reported-milan",
   "metadata": {},
   "outputs": [
    {
     "data": {
      "text/html": [
       "<div>\n",
       "<style scoped>\n",
       "    .dataframe tbody tr th:only-of-type {\n",
       "        vertical-align: middle;\n",
       "    }\n",
       "\n",
       "    .dataframe tbody tr th {\n",
       "        vertical-align: top;\n",
       "    }\n",
       "\n",
       "    .dataframe thead th {\n",
       "        text-align: right;\n",
       "    }\n",
       "</style>\n",
       "<table border=\"1\" class=\"dataframe\">\n",
       "  <thead>\n",
       "    <tr style=\"text-align: right;\">\n",
       "      <th></th>\n",
       "      <th>turns</th>\n",
       "      <th>posterior_mean</th>\n",
       "    </tr>\n",
       "    <tr>\n",
       "      <th>groups</th>\n",
       "      <th></th>\n",
       "      <th></th>\n",
       "    </tr>\n",
       "  </thead>\n",
       "  <tbody>\n",
       "    <tr>\n",
       "      <th>G1</th>\n",
       "      <td>19</td>\n",
       "      <td>0.921648</td>\n",
       "    </tr>\n",
       "    <tr>\n",
       "      <th>G2</th>\n",
       "      <td>19</td>\n",
       "      <td>0.703915</td>\n",
       "    </tr>\n",
       "    <tr>\n",
       "      <th>G3</th>\n",
       "      <td>19</td>\n",
       "      <td>0.525043</td>\n",
       "    </tr>\n",
       "    <tr>\n",
       "      <th>G4</th>\n",
       "      <td>19</td>\n",
       "      <td>0.501880</td>\n",
       "    </tr>\n",
       "  </tbody>\n",
       "</table>\n",
       "</div>"
      ],
      "text/plain": [
       "        turns  posterior_mean\n",
       "groups                       \n",
       "G1         19        0.921648\n",
       "G2         19        0.703915\n",
       "G3         19        0.525043\n",
       "G4         19        0.501880"
      ]
     },
     "execution_count": 165,
     "metadata": {},
     "output_type": "execute_result"
    }
   ],
   "source": [
    "df.groupby(['groups']).mean()"
   ]
  }
 ],
 "metadata": {
  "kernelspec": {
   "display_name": "Python 3",
   "language": "python",
   "name": "python3"
  },
  "language_info": {
   "codemirror_mode": {
    "name": "ipython",
    "version": 3
   },
   "file_extension": ".py",
   "mimetype": "text/x-python",
   "name": "python",
   "nbconvert_exporter": "python",
   "pygments_lexer": "ipython3",
   "version": "3.8.0"
  }
 },
 "nbformat": 4,
 "nbformat_minor": 5
}
