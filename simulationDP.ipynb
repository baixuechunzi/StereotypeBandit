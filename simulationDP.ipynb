{
 "cells": [
  {
   "cell_type": "markdown",
   "id": "occasional-syria",
   "metadata": {},
   "source": [
    "### Computational simulation for Multi-Armed Bandit with Dynamic Programming"
   ]
  },
  {
   "cell_type": "code",
   "execution_count": 96,
   "id": "changed-mediterranean",
   "metadata": {},
   "outputs": [],
   "source": [
    "import numpy as np\n",
    "import pandas as pd\n",
    "import random\n",
    "import time\n",
    "from collections import Counter\n",
    "import seaborn as sns\n",
    "import matplotlib.pyplot as plt"
   ]
  },
  {
   "cell_type": "markdown",
   "id": "attractive-scanner",
   "metadata": {},
   "source": [
    "#### set-up the environment: bandit"
   ]
  },
  {
   "cell_type": "code",
   "execution_count": 55,
   "id": "parental-acrobat",
   "metadata": {},
   "outputs": [],
   "source": [
    "class Bandit:  # Environment\n",
    "    def __init__(self, total_round, start_round):\n",
    "        self.total_round = total_round\n",
    "        self.current_round = start_round\n",
    "\n",
    "    def set(self, rewards, actions):\n",
    "        '''\n",
    "        rewards --> dict: round: list of rewards (for each arm)\n",
    "        actions --> dict: round: list of actions (select which arm) should be [0,1,2,3]\n",
    "        '''\n",
    "        self.rewards = rewards\n",
    "        self.actions = actions\n",
    "\n",
    "    def set_state(self, round):\n",
    "        '''\n",
    "        s --> tuple: (int,int)\n",
    "        '''\n",
    "        self.current_round = round\n",
    "\n",
    "    def current_state(self):\n",
    "        return self.current_round\n",
    "\n",
    "    def is_terminal(self, round):\n",
    "        return round != self.total_round\n",
    "\n",
    "    def game_over(self):\n",
    "        return self.current_round == self.total_round\n",
    "\n",
    "    def move(self, action):\n",
    "        # return reward if any\n",
    "        self.current_round += 1\n",
    "        return self.rewards[self.current_round][action]\n",
    "\n",
    "    def all_states(self):\n",
    "        '''\n",
    "        gives us a set of all possible states in grid world\n",
    "        '''\n",
    "        return range(self.total_round)"
   ]
  },
  {
   "cell_type": "markdown",
   "id": "hidden-bernard",
   "metadata": {},
   "source": [
    "#### set the parameters"
   ]
  },
  {
   "cell_type": "code",
   "execution_count": 69,
   "id": "imperial-winter",
   "metadata": {},
   "outputs": [],
   "source": [
    "thresh = 1e-4\n",
    "GAMMA = 1\n",
    "number_of_turns = 40\n",
    "number_of_slot_machines = 4\n",
    "conversion_rate = [0.9 for i in range(number_of_slot_machines)]\n",
    "ACTIONS = list(range(number_of_slot_machines))\n",
    "sim_total = 50"
   ]
  },
  {
   "cell_type": "markdown",
   "id": "dental-pioneer",
   "metadata": {},
   "source": [
    "#### play the game via DP (value iteration)"
   ]
  },
  {
   "cell_type": "code",
   "execution_count": 82,
   "id": "loaded-playlist",
   "metadata": {},
   "outputs": [],
   "source": [
    "rewards_df = []\n",
    "raw_policies_df = []\n",
    "sum_policies_df = []\n",
    "\n",
    "sim_total = sim_total\n",
    "for sim in range(sim_total):\n",
    "    \n",
    "    '''\n",
    "    create new dataset each time\n",
    "    '''\n",
    "    def bandit(number_of_turns, conversion_rate, number_of_slot_machines):\n",
    "        bandit = Bandit(total_round=number_of_turns, start_round=0)\n",
    "\n",
    "        np.random.seed(int(time.time()))\n",
    "        rewards_np = np.zeros((number_of_turns, number_of_slot_machines))\n",
    "        for slot_machine_index in range(number_of_slot_machines):\n",
    "            rewards_np[\n",
    "                np.random.choice(np.arange(number_of_turns), int(conversion_rate[slot_machine_index] * number_of_turns),\n",
    "                                 replace=False), slot_machine_index] = 1\n",
    "        rewards_df.append(rewards_np)\n",
    "\n",
    "        rewards = {i: rewards_np[i].tolist() for i in range(number_of_turns)}\n",
    "        actions = {i: list(range(number_of_slot_machines)) for i in range(number_of_turns - 1)}\n",
    "    \n",
    "        bandit.set(rewards, actions)\n",
    "        return bandit\n",
    "\n",
    "    # instantiate the bandit\n",
    "    B = bandit(number_of_turns, conversion_rate, number_of_slot_machines)\n",
    "    \n",
    "    \n",
    "    '''\n",
    "    value iteration\n",
    "    '''\n",
    "\n",
    "    # randomly instantiate\n",
    "    policy = {}\n",
    "    for s in B.actions.keys():\n",
    "        policy[s] = np.random.choice(ACTIONS)\n",
    "\n",
    "    # initialize V(s) randomly between 0 and 1\n",
    "    V = {}\n",
    "    states = B.all_states()\n",
    "    for s in states:\n",
    "        if s in B.actions:\n",
    "            V[s] = np.random.random()\n",
    "        else:\n",
    "            # terminal state so we set Value to 0\n",
    "            V[s] = 0\n",
    "\n",
    "    # repeat until convergence\n",
    "    # V[s] = max[a]{sum[s',r] {p(s',r|s,a)[r + GAMMA * V[s']]}}\n",
    "    while True:\n",
    "        max_change = 0\n",
    "        for s in states:\n",
    "            old_vs = V[s]\n",
    "\n",
    "            # V[s] only has policy if not a terminal state\n",
    "            if s in policy:\n",
    "                new_v = float('-inf')\n",
    "\n",
    "                # find max[a]\n",
    "                # random.shuffle(ACTIONS)\n",
    "                for a in ACTIONS:\n",
    "                    B.set_state(s)\n",
    "                    r = B.move(a)\n",
    "                    v = r + GAMMA * V[B.current_state()]\n",
    "                    if v > new_v:\n",
    "                        new_v = v\n",
    "                V[s] = new_v\n",
    "                max_change = max(max_change, np.abs(old_vs - V[s]))\n",
    "\n",
    "        # when the value function converges break out of the loop\n",
    "        if max_change < thresh:\n",
    "            break\n",
    "\n",
    "    '''\n",
    "    find the optimal policy\n",
    "    '''        \n",
    "    # find a policy that leads to optimal value function\n",
    "    for s in policy.keys():\n",
    "        best_act = None\n",
    "        best_value = float('-inf')\n",
    "        # random.shuffle(ACTIONS)\n",
    "        for a in ACTIONS:\n",
    "            B.set_state(s)\n",
    "            r = B.move(a)\n",
    "            v = r + GAMMA * V[B.current_state()]\n",
    "            if v > best_value:\n",
    "                best_value = v\n",
    "                best_act = a\n",
    "        policy[s] = best_act\n",
    "\n",
    "    # see results\n",
    "    raw_policies_df.append(list(policy.values()))\n",
    "    sum_policies_df.append(Counter(list(policy.values())))\n",
    "    \n",
    "    sim += 1\n",
    "    time.sleep(1)"
   ]
  },
  {
   "cell_type": "markdown",
   "id": "accessory-bonus",
   "metadata": {},
   "source": [
    "#### visualize results"
   ]
  },
  {
   "cell_type": "code",
   "execution_count": 120,
   "id": "binding-mechanics",
   "metadata": {},
   "outputs": [
    {
     "data": {
      "image/png": "[encoded data removed]",
      "text/plain": [
       "<Figure size 360x360 with 1 Axes>"
      ]
     },
     "metadata": {
      "needs_background": "light"
     },
     "output_type": "display_data"
    }
   ],
   "source": [
    "# visualize interaction time.\n",
    "widedf = pd.DataFrame(sum_policies_df)\n",
    "widedf['turn'] = list(range(sim_total))\n",
    "longdf = pd.melt(widedf, id_vars=['turn'], value_vars=[0, 1, 2, 3],\n",
    "                var_name='groups', value_name='interaction_time')\n",
    "\n",
    "ax = sns.catplot(x='groups', y='interaction_time', kind=\"bar\", data=longdf)\n",
    "sns.despine(offset=5, trim=True)\n",
    "plt.show()"
   ]
  },
  {
   "cell_type": "code",
   "execution_count": 124,
   "id": "emerging-frontier",
   "metadata": {},
   "outputs": [
    {
     "name": "stdout",
     "output_type": "stream",
     "text": [
      "[[1. 1. 1. 1.]\n",
      " [1. 0. 1. 1.]\n",
      " [0. 1. 1. 1.]\n",
      " [1. 1. 1. 1.]\n",
      " [1. 1. 1. 1.]\n",
      " [1. 1. 1. 1.]\n",
      " [1. 1. 0. 1.]\n",
      " [1. 1. 1. 0.]\n",
      " [1. 0. 1. 1.]\n",
      " [1. 1. 1. 1.]\n",
      " [1. 1. 1. 1.]\n",
      " [1. 1. 1. 1.]\n",
      " [0. 1. 1. 1.]\n",
      " [1. 1. 1. 1.]\n",
      " [1. 1. 1. 1.]\n",
      " [1. 1. 1. 1.]\n",
      " [0. 1. 0. 0.]\n",
      " [1. 1. 1. 1.]\n",
      " [1. 1. 1. 1.]\n",
      " [1. 1. 1. 1.]\n",
      " [1. 1. 1. 1.]\n",
      " [1. 1. 1. 1.]\n",
      " [1. 1. 1. 0.]\n",
      " [1. 1. 0. 1.]\n",
      " [1. 1. 1. 1.]\n",
      " [1. 1. 1. 1.]\n",
      " [1. 1. 1. 1.]\n",
      " [1. 1. 1. 1.]\n",
      " [1. 1. 1. 1.]\n",
      " [1. 1. 1. 1.]\n",
      " [1. 0. 1. 0.]\n",
      " [1. 0. 1. 1.]\n",
      " [1. 1. 1. 1.]\n",
      " [1. 1. 1. 1.]\n",
      " [1. 1. 1. 1.]\n",
      " [1. 1. 1. 1.]\n",
      " [1. 1. 1. 1.]\n",
      " [1. 1. 1. 1.]\n",
      " [0. 1. 1. 1.]\n",
      " [1. 1. 0. 1.]]\n",
      "[0, 1, 0, 0, 0, 0, 0, 0, 0, 0, 0, 1, 0, 0, 0, 1, 0, 0, 0, 0, 0, 0, 0, 0, 0, 0, 0, 0, 0, 0, 0, 0, 0, 0, 0, 0, 0, 1, 0]\n"
     ]
    }
   ],
   "source": [
    "print(rewards_df[0])\n",
    "print(raw_policies_df[0])"
   ]
  }
 ],
 "metadata": {
  "kernelspec": {
   "display_name": "Python 3",
   "language": "python",
   "name": "python3"
  },
  "language_info": {
   "codemirror_mode": {
    "name": "ipython",
    "version": 3
   },
   "file_extension": ".py",
   "mimetype": "text/x-python",
   "name": "python",
   "nbconvert_exporter": "python",
   "pygments_lexer": "ipython3",
   "version": "3.8.0"
  }
 },
 "nbformat": 4,
 "nbformat_minor": 5
}
